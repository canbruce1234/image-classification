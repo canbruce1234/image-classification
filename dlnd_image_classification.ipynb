{
 "cells": [
  {
   "cell_type": "markdown",
   "metadata": {
    "collapsed": true,
    "deletable": true,
    "editable": true
   },
   "source": [
    "# Image Classification\n",
    "In this project, you'll classify images from the [CIFAR-10 dataset](https://www.cs.toronto.edu/~kriz/cifar.html).  The dataset consists of airplanes, dogs, cats, and other objects. You'll preprocess the images, then train a convolutional neural network on all the samples. The images need to be normalized and the labels need to be one-hot encoded.  You'll get to apply what you learned and build a convolutional, max pooling, dropout, and fully connected layers.  At the end, you'll get to see your neural network's predictions on the sample images.\n",
    "## Get the Data\n",
    "Run the following cell to download the [CIFAR-10 dataset for python](https://www.cs.toronto.edu/~kriz/cifar-10-python.tar.gz)."
   ]
  },
  {
   "cell_type": "code",
   "execution_count": 8,
   "metadata": {
    "collapsed": false,
    "deletable": true,
    "editable": true
   },
   "outputs": [
    {
     "name": "stdout",
     "output_type": "stream",
     "text": [
      "All files found!\n"
     ]
    }
   ],
   "source": [
    "\"\"\"\n",
    "DON'T MODIFY ANYTHING IN THIS CELL THAT IS BELOW THIS LINE\n",
    "\"\"\"\n",
    "from urllib.request import urlretrieve\n",
    "from os.path import isfile, isdir\n",
    "from tqdm import tqdm\n",
    "import problem_unittests as tests\n",
    "import tarfile\n",
    "\n",
    "cifar10_dataset_folder_path = 'cifar-10-batches-py'\n",
    "\n",
    "class DLProgress(tqdm):\n",
    "    last_block = 0\n",
    "\n",
    "    def hook(self, block_num=1, block_size=1, total_size=None):\n",
    "        self.total = total_size\n",
    "        self.update((block_num - self.last_block) * block_size)\n",
    "        self.last_block = block_num\n",
    "\n",
    "if not isfile('cifar-10-python.tar.gz'):\n",
    "    with DLProgress(unit='B', unit_scale=True, miniters=1, desc='CIFAR-10 Dataset') as pbar:\n",
    "        urlretrieve(\n",
    "            'https://www.cs.toronto.edu/~kriz/cifar-10-python.tar.gz',\n",
    "            'cifar-10-python.tar.gz',\n",
    "            pbar.hook)\n",
    "\n",
    "if not isdir(cifar10_dataset_folder_path):\n",
    "    with tarfile.open('cifar-10-python.tar.gz') as tar:\n",
    "        tar.extractall()\n",
    "        tar.close()\n",
    "\n",
    "\n",
    "tests.test_folder_path(cifar10_dataset_folder_path)"
   ]
  },
  {
   "cell_type": "markdown",
   "metadata": {
    "deletable": true,
    "editable": true
   },
   "source": [
    "## Explore the Data\n",
    "The dataset is broken into batches to prevent your machine from running out of memory.  The CIFAR-10 dataset consists of 5 batches, named `data_batch_1`, `data_batch_2`, etc.. Each batch contains the labels and images that are one of the following:\n",
    "* airplane\n",
    "* automobile\n",
    "* bird\n",
    "* cat\n",
    "* deer\n",
    "* dog\n",
    "* frog\n",
    "* horse\n",
    "* ship\n",
    "* truck\n",
    "\n",
    "Understanding a dataset is part of making predictions on the data.  Play around with the code cell below by changing the `batch_id` and `sample_id`. The `batch_id` is the id for a batch (1-5). The `sample_id` is the id for a image and label pair in the batch.\n",
    "\n",
    "Ask yourself \"What are all possible labels?\", \"What is the range of values for the image data?\", \"Are the labels in order or random?\".  Answers to questions like these will help you preprocess the data and end up with better predictions."
   ]
  },
  {
   "cell_type": "code",
   "execution_count": 9,
   "metadata": {
    "collapsed": false,
    "deletable": true,
    "editable": true
   },
   "outputs": [
    {
     "name": "stdout",
     "output_type": "stream",
     "text": [
      "\n",
      "Stats of batch 1:\n",
      "Samples: 10000\n",
      "Label Counts: {0: 1005, 1: 974, 2: 1032, 3: 1016, 4: 999, 5: 937, 6: 1030, 7: 1001, 8: 1025, 9: 981}\n",
      "First 20 Labels: [6, 9, 9, 4, 1, 1, 2, 7, 8, 3, 4, 7, 7, 2, 9, 9, 9, 3, 2, 6]\n",
      "\n",
      "Example of Image 1112:\n",
      "Image - Min Value: 0 Max Value: 238\n",
      "Image - Shape: (32, 32, 3)\n",
      "Label - Label Id: 9 Name: truck\n"
     ]
    },
    {
     "data": {
      "image/png": "[encoded data removed]",
      "text/plain": [
       "<matplotlib.figure.Figure at 0x7f8f4bb55550>"
      ]
     },
     "metadata": {
      "image/png": {
       "height": 250,
       "width": 253
      }
     },
     "output_type": "display_data"
    }
   ],
   "source": [
    "%matplotlib inline\n",
    "%config InlineBackend.figure_format = 'retina'\n",
    "\n",
    "import helper\n",
    "import numpy as np\n",
    "\n",
    "# Explore the dataset\n",
    "batch_id = 1\n",
    "sample_id = 1112\n",
    "helper.display_stats(cifar10_dataset_folder_path, batch_id, sample_id)"
   ]
  },
  {
   "cell_type": "markdown",
   "metadata": {
    "deletable": true,
    "editable": true
   },
   "source": [
    "## Implement Preprocess Functions\n",
    "### Normalize\n",
    "In the cell below, implement the `normalize` function to take in image data, `x`, and return it as a normalized Numpy array. The values should be in the range of 0 to 1, inclusive.  The return object should be the same shape as `x`."
   ]
  },
  {
   "cell_type": "code",
   "execution_count": 10,
   "metadata": {
    "collapsed": false,
    "deletable": true,
    "editable": true
   },
   "outputs": [
    {
     "name": "stdout",
     "output_type": "stream",
     "text": [
      "Tests Passed\n"
     ]
    }
   ],
   "source": [
    "from PIL import Image\n",
    "def normalize(x):\n",
    "    \"\"\"\n",
    "    Normalize a list of sample image data in the range of 0 to 1\n",
    "    : x: List of image data.  The image shape is (32, 32, 3)\n",
    "    : return: Numpy array of normalize data\n",
    "    \"\"\"\n",
    "    # TODO: Implement\n",
    "    \n",
    "    x = x.astype(float)\n",
    "    x = x/255.0\n",
    "    return x\n",
    "\n",
    "\n",
    "\"\"\"\n",
    "DON'T MODIFY ANYTHING IN THIS CELL THAT IS BELOW THIS LINE\n",
    "\"\"\"\n",
    "tests.test_normalize(normalize)"
   ]
  },
  {
   "cell_type": "markdown",
   "metadata": {
    "deletable": true,
    "editable": true
   },
   "source": [
    "### One-hot encode\n",
    "Just like the previous code cell, you'll be implementing a function for preprocessing.  This time, you'll implement the `one_hot_encode` function. The input, `x`, are a list of labels.  Implement the function to return the list of labels as One-Hot encoded Numpy array.  The possible values for labels are 0 to 9. The one-hot encoding function should return the same encoding for each value between each call to `one_hot_encode`.  Make sure to save the map of encodings outside the function.\n",
    "\n",
    "Hint: Don't reinvent the wheel."
   ]
  },
  {
   "cell_type": "code",
   "execution_count": 11,
   "metadata": {
    "collapsed": false,
    "deletable": true,
    "editable": true
   },
   "outputs": [
    {
     "name": "stdout",
     "output_type": "stream",
     "text": [
      "Tests Passed\n"
     ]
    }
   ],
   "source": [
    "import numpy as np\n",
    "\n",
    "def one_hot_encode(x):\n",
    "    \"\"\"\n",
    "    One hot encode a list of sample labels. Return a one-hot encoded vector for each label.\n",
    "    : x: List of sample Labels\n",
    "    : return: Numpy array of one-hot encoded labels\n",
    "    \"\"\"\n",
    "    # TODO: Implement Function\n",
    "    return np.eye(10)[x]\n",
    "\n",
    "\"\"\"\n",
    "DON'T MODIFY ANYTHING IN THIS CELL THAT IS BELOW THIS LINE\n",
    "\"\"\"\n",
    "tests.test_one_hot_encode(one_hot_encode)"
   ]
  },
  {
   "cell_type": "markdown",
   "metadata": {
    "deletable": true,
    "editable": true
   },
   "source": [
    "### Randomize Data\n",
    "As you saw from exploring the data above, the order of the samples are randomized.  It doesn't hurt to randomize it again, but you don't need to for this dataset."
   ]
  },
  {
   "cell_type": "markdown",
   "metadata": {
    "deletable": true,
    "editable": true
   },
   "source": [
    "## Preprocess all the data and save it\n",
    "Running the code cell below will preprocess all the CIFAR-10 data and save it to file. The code below also uses 10% of the training data for validation."
   ]
  },
  {
   "cell_type": "code",
   "execution_count": 12,
   "metadata": {
    "collapsed": false,
    "deletable": true,
    "editable": true
   },
   "outputs": [],
   "source": [
    "\"\"\"\n",
    "DON'T MODIFY ANYTHING IN THIS CELL\n",
    "\"\"\"\n",
    "# Preprocess Training, Validation, and Testing Data\n",
    "helper.preprocess_and_save_data(cifar10_dataset_folder_path, normalize, one_hot_encode)"
   ]
  },
  {
   "cell_type": "markdown",
   "metadata": {
    "deletable": true,
    "editable": true
   },
   "source": [
    "# Check Point\n",
    "This is your first checkpoint.  If you ever decide to come back to this notebook or have to restart the notebook, you can start from here.  The preprocessed data has been saved to disk."
   ]
  },
  {
   "cell_type": "code",
   "execution_count": 13,
   "metadata": {
    "collapsed": true,
    "deletable": true,
    "editable": true
   },
   "outputs": [],
   "source": [
    "\"\"\"\n",
    "DON'T MODIFY ANYTHING IN THIS CELL\n",
    "\"\"\"\n",
    "import pickle\n",
    "import problem_unittests as tests\n",
    "import helper\n",
    "\n",
    "# Load the Preprocessed Validation data\n",
    "valid_features, valid_labels = pickle.load(open('preprocess_validation.p', mode='rb'))"
   ]
  },
  {
   "cell_type": "markdown",
   "metadata": {
    "deletable": true,
    "editable": true
   },
   "source": [
    "## Build the network\n",
    "For the neural network, you'll build each layer into a function.  Most of the code you've seen has been outside of functions. To test your code more thoroughly, we require that you put each layer in a function.  This allows us to give you better feedback and test for simple mistakes using our unittests before you submit your project.\n",
    "\n",
    ">**Note:** If you're finding it hard to dedicate enough time for this course each week, we've provided a small shortcut to this part of the project. In the next couple of problems, you'll have the option to use classes from the [TensorFlow Layers](https://www.tensorflow.org/api_docs/python/tf/layers) or [TensorFlow Layers (contrib)](https://www.tensorflow.org/api_guides/python/contrib.layers) packages to build each layer, except the layers you build in the \"Convolutional and Max Pooling Layer\" section.  TF Layers is similar to Keras's and TFLearn's abstraction to layers, so it's easy to pickup.\n",
    "\n",
    ">However, if you would like to get the most out of this course, try to solve all the problems _without_ using anything from the TF Layers packages. You **can** still use classes from other packages that happen to have the same name as ones you find in TF Layers! For example, instead of using the TF Layers version of the `conv2d` class, [tf.layers.conv2d](https://www.tensorflow.org/api_docs/python/tf/layers/conv2d), you would want to use the TF Neural Network version of `conv2d`, [tf.nn.conv2d](https://www.tensorflow.org/api_docs/python/tf/nn/conv2d). \n",
    "\n",
    "Let's begin!\n",
    "\n",
    "### Input\n",
    "The neural network needs to read the image data, one-hot encoded labels, and dropout keep probability. Implement the following functions\n",
    "* Implement `neural_net_image_input`\n",
    " * Return a [TF Placeholder](https://www.tensorflow.org/api_docs/python/tf/placeholder)\n",
    " * Set the shape using `image_shape` with batch size set to `None`.\n",
    " * Name the TensorFlow placeholder \"x\" using the TensorFlow `name` parameter in the [TF Placeholder](https://www.tensorflow.org/api_docs/python/tf/placeholder).\n",
    "* Implement `neural_net_label_input`\n",
    " * Return a [TF Placeholder](https://www.tensorflow.org/api_docs/python/tf/placeholder)\n",
    " * Set the shape using `n_classes` with batch size set to `None`.\n",
    " * Name the TensorFlow placeholder \"y\" using the TensorFlow `name` parameter in the [TF Placeholder](https://www.tensorflow.org/api_docs/python/tf/placeholder).\n",
    "* Implement `neural_net_keep_prob_input`\n",
    " * Return a [TF Placeholder](https://www.tensorflow.org/api_docs/python/tf/placeholder) for dropout keep probability.\n",
    " * Name the TensorFlow placeholder \"keep_prob\" using the TensorFlow `name` parameter in the [TF Placeholder](https://www.tensorflow.org/api_docs/python/tf/placeholder).\n",
    "\n",
    "These names will be used at the end of the project to load your saved model.\n",
    "\n",
    "Note: `None` for shapes in TensorFlow allow for a dynamic size."
   ]
  },
  {
   "cell_type": "code",
   "execution_count": 14,
   "metadata": {
    "collapsed": false,
    "deletable": true,
    "editable": true
   },
   "outputs": [
    {
     "name": "stdout",
     "output_type": "stream",
     "text": [
      "Image Input Tests Passed.\n",
      "Label Input Tests Passed.\n",
      "Keep Prob Tests Passed.\n"
     ]
    }
   ],
   "source": [
    "import tensorflow as tf\n",
    "\n",
    "def neural_net_image_input(image_shape):\n",
    "    \"\"\"\n",
    "    Return a Tensor for a bach of image input\n",
    "    : image_shape: Shape of the images\n",
    "    : return: Tensor for image input.\n",
    "    \"\"\"\n",
    "    # TODO: Implement Function\n",
    "    x = tf.placeholder(tf.float32,\n",
    "                       (None, image_shape[0], image_shape[1], image_shape[2]), \n",
    "                       name='x' )\n",
    "    return x\n",
    "\n",
    "\n",
    "def neural_net_label_input(n_classes):\n",
    "    \"\"\"\n",
    "    Return a Tensor for a batch of label input\n",
    "    : n_classes: Number of classes\n",
    "    : return: Tensor for label input.\n",
    "    \"\"\"\n",
    "    # TODO: Implement Function\n",
    "    y = tf.placeholder(tf.float32,(None, n_classes), name='y' )\n",
    "    return y\n",
    "\n",
    "def neural_net_keep_prob_input():\n",
    "    \"\"\"\n",
    "    Return a Tensor for keep probability\n",
    "    : return: Tensor for keep probability.\n",
    "    \"\"\"\n",
    "    # TODO: Implement \n",
    "    keep_prob = tf.placeholder(tf.float32, (None), name='keep_prob')\n",
    "    return keep_prob\n",
    "\n",
    "\n",
    "\"\"\"\n",
    "DON'T MODIFY ANYTHING IN THIS CELL THAT IS BELOW THIS LINE\n",
    "\"\"\"\n",
    "tf.reset_default_graph()\n",
    "tests.test_nn_image_inputs(neural_net_image_input)\n",
    "tests.test_nn_label_inputs(neural_net_label_input)\n",
    "tests.test_nn_keep_prob_inputs(neural_net_keep_prob_input)"
   ]
  },
  {
   "cell_type": "markdown",
   "metadata": {
    "deletable": true,
    "editable": true
   },
   "source": [
    "### Convolution and Max Pooling Layer\n",
    "Convolution layers have a lot of success with images. For this code cell, you should implement the function `conv2d_maxpool` to apply convolution then max pooling:\n",
    "* Create the weight and bias using `conv_ksize`, `conv_num_outputs` and the shape of `x_tensor`.\n",
    "* Apply a convolution to `x_tensor` using weight and `conv_strides`.\n",
    " * We recommend you use same padding, but you're welcome to use any padding.\n",
    "* Add bias\n",
    "* Add a nonlinear activation to the convolution.\n",
    "* Apply Max Pooling using `pool_ksize` and `pool_strides`.\n",
    " * We recommend you use same padding, but you're welcome to use any padding.\n",
    "\n",
    "**Note:** You **can't** use [TensorFlow Layers](https://www.tensorflow.org/api_docs/python/tf/layers) or [TensorFlow Layers (contrib)](https://www.tensorflow.org/api_guides/python/contrib.layers) for **this** layer, but you can still use TensorFlow's [Neural Network](https://www.tensorflow.org/api_docs/python/tf/nn) package. You may still use the shortcut option for all the **other** layers."
   ]
  },
  {
   "cell_type": "code",
   "execution_count": 15,
   "metadata": {
    "collapsed": false,
    "deletable": true,
    "editable": true
   },
   "outputs": [
    {
     "name": "stdout",
     "output_type": "stream",
     "text": [
      "Tests Passed\n"
     ]
    }
   ],
   "source": [
    "def conv2d_maxpool(x_tensor, conv_num_outputs, conv_ksize, conv_strides, pool_ksize, pool_strides):\n",
    "    \"\"\"\n",
    "    Apply convolution then max pooling to x_tensor\n",
    "    :param x_tensor: TensorFlow Tensor\n",
    "    :param conv_num_outputs: Number of outputs for the convolutional layer\n",
    "    :param conv_ksize: kernal size 2-D Tuple for the convolutional layer\n",
    "    :param conv_strides: Stride 2-D Tuple for convolution\n",
    "    :param pool_ksize: kernal size 2-D Tuple for pool\n",
    "    :param pool_strides: Stride 2-D Tuple for pool\n",
    "    : return: A tensor that represents convolution and max pooling of x_tensor\n",
    "    \"\"\"\n",
    "    # TODO: Implement Function\n",
    "    input = x_tensor\n",
    "    c_kh = conv_ksize[0]\n",
    "    c_kw = conv_ksize[1]\n",
    "    input_depth=int(x_tensor.shape[3])\n",
    "    weight = tf.Variable(tf.truncated_normal( (c_kh, c_kw, input_depth, conv_num_outputs), stddev=0.1)) \n",
    "    bias = tf.Variable(tf.zeros(conv_num_outputs))\n",
    "    conv_layer = tf.nn.conv2d(input, weight, \n",
    "                              strides=[1, conv_strides[0], conv_strides[1], 1], \n",
    "                              padding='SAME')\n",
    "    conv_layer = tf.nn.bias_add(conv_layer, bias)\n",
    "    conv_layer = tf.nn.relu(conv_layer)\n",
    "    conv_layer = tf.nn.max_pool(\n",
    "        conv_layer,\n",
    "        ksize=[1, pool_ksize[0], pool_ksize[1], 1],\n",
    "        strides=[1, pool_strides[0], pool_strides[1], 1],\n",
    "        padding='SAME')\n",
    "    return conv_layer \n",
    "\n",
    "\n",
    "\"\"\"\n",
    "DON'T MODIFY ANYTHING IN THIS CELL THAT IS BELOW THIS LINE\n",
    "\"\"\"\n",
    "tests.test_con_pool(conv2d_maxpool)"
   ]
  },
  {
   "cell_type": "markdown",
   "metadata": {
    "deletable": true,
    "editable": true
   },
   "source": [
    "### Flatten Layer\n",
    "Implement the `flatten` function to change the dimension of `x_tensor` from a 4-D tensor to a 2-D tensor.  The output should be the shape (*Batch Size*, *Flattened Image Size*). Shortcut option: you can use classes from the [TensorFlow Layers](https://www.tensorflow.org/api_docs/python/tf/layers) or [TensorFlow Layers (contrib)](https://www.tensorflow.org/api_guides/python/contrib.layers) packages for this layer. For more of a challenge, only use other TensorFlow packages."
   ]
  },
  {
   "cell_type": "code",
   "execution_count": 16,
   "metadata": {
    "collapsed": false,
    "deletable": true,
    "editable": true
   },
   "outputs": [
    {
     "name": "stdout",
     "output_type": "stream",
     "text": [
      "Tests Passed\n"
     ]
    }
   ],
   "source": [
    "def flatten(x_tensor):\n",
    "    \"\"\"\n",
    "    Flatten x_tensor to (Batch Size, Flattened Image Size)\n",
    "    : x_tensor: A tensor of size (Batch Size, ...), where ... are the image dimensions.\n",
    "    : return: A tensor of size (Batch Size, Flattened Image Size).\n",
    "    \"\"\"\n",
    "    # TODO: Implement Function\n",
    "    return tf.contrib.layers.flatten(x_tensor)\n",
    "\n",
    "\"\"\"\n",
    "DON'T MODIFY ANYTHING IN THIS CELL THAT IS BELOW THIS LINE\n",
    "\"\"\"\n",
    "tests.test_flatten(flatten)"
   ]
  },
  {
   "cell_type": "markdown",
   "metadata": {
    "deletable": true,
    "editable": true
   },
   "source": [
    "### Fully-Connected Layer\n",
    "Implement the `fully_conn` function to apply a fully connected layer to `x_tensor` with the shape (*Batch Size*, *num_outputs*). Shortcut option: you can use classes from the [TensorFlow Layers](https://www.tensorflow.org/api_docs/python/tf/layers) or [TensorFlow Layers (contrib)](https://www.tensorflow.org/api_guides/python/contrib.layers) packages for this layer. For more of a challenge, only use other TensorFlow packages."
   ]
  },
  {
   "cell_type": "code",
   "execution_count": 17,
   "metadata": {
    "collapsed": false,
    "deletable": true,
    "editable": true
   },
   "outputs": [
    {
     "name": "stdout",
     "output_type": "stream",
     "text": [
      "Tests Passed\n"
     ]
    }
   ],
   "source": [
    "def fully_conn(x_tensor, num_outputs):\n",
    "    \"\"\"\n",
    "    Apply a fully connected layer to x_tensor using weight and bias\n",
    "    : x_tensor: A 2-D tensor where the first dimension is batch size.\n",
    "    : num_outputs: The number of output that the new tensor should be.\n",
    "    : return: A 2-D tensor where the second dimension is num_outputs.\n",
    "    \"\"\"\n",
    "    # TODO: Implement Function\n",
    "    weight = tf.Variable(tf.truncated_normal(x_tensor.get_shape().as_list()[1:]+[num_outputs], stddev = 0.1))\n",
    "    bias = tf.Variable(tf.truncated_normal([num_outputs]))\n",
    "    x_tensor = tf.add(tf.matmul(x_tensor, weight), bias)\n",
    "    x_tensor = tf.nn.relu(x_tensor)\n",
    "    return x_tensor \n",
    "\n",
    "\n",
    "\"\"\"\n",
    "DON'T MODIFY ANYTHING IN THIS CELL THAT IS BELOW THIS LINE\n",
    "\"\"\"\n",
    "tests.test_fully_conn(fully_conn)"
   ]
  },
  {
   "cell_type": "markdown",
   "metadata": {
    "deletable": true,
    "editable": true
   },
   "source": [
    "### Output Layer\n",
    "Implement the `output` function to apply a fully connected layer to `x_tensor` with the shape (*Batch Size*, *num_outputs*). Shortcut option: you can use classes from the [TensorFlow Layers](https://www.tensorflow.org/api_docs/python/tf/layers) or [TensorFlow Layers (contrib)](https://www.tensorflow.org/api_guides/python/contrib.layers) packages for this layer. For more of a challenge, only use other TensorFlow packages.\n",
    "\n",
    "**Note:** Activation, softmax, or cross entropy should **not** be applied to this."
   ]
  },
  {
   "cell_type": "code",
   "execution_count": 18,
   "metadata": {
    "collapsed": false,
    "deletable": true,
    "editable": true
   },
   "outputs": [
    {
     "name": "stdout",
     "output_type": "stream",
     "text": [
      "Tests Passed\n"
     ]
    }
   ],
   "source": [
    "def output(x_tensor, num_outputs):\n",
    "    \"\"\"\n",
    "    Apply a output layer to x_tensor using weight and bias\n",
    "    : x_tensor: A 2-D tensor where the first dimension is batch size.\n",
    "    : num_outputs: The number of output that the new tensor should be.\n",
    "    : return: A 2-D tensor where the second dimension is num_outputs.\n",
    "    \"\"\"\n",
    "    # TODO: Implement Function\n",
    "    weight = tf.Variable(tf.truncated_normal(x_tensor.get_shape().as_list()[1:]+[num_outputs], stddev = 0.1))\n",
    "    bias = tf.Variable(tf.truncated_normal([num_outputs]))\n",
    "    x_tensor = tf.add(tf.matmul(x_tensor, weight), bias)\n",
    "    return x_tensor\n",
    "\n",
    "\n",
    "\"\"\"\n",
    "DON'T MODIFY ANYTHING IN THIS CELL THAT IS BELOW THIS LINE\n",
    "\"\"\"\n",
    "tests.test_output(output)"
   ]
  },
  {
   "cell_type": "markdown",
   "metadata": {
    "deletable": true,
    "editable": true
   },
   "source": [
    "### Create Convolutional Model\n",
    "Implement the function `conv_net` to create a convolutional neural network model. The function takes in a batch of images, `x`, and outputs logits.  Use the layers you created above to create this model:\n",
    "\n",
    "* Apply 1, 2, or 3 Convolution and Max Pool layers\n",
    "* Apply a Flatten Layer\n",
    "* Apply 1, 2, or 3 Fully Connected Layers\n",
    "* Apply an Output Layer\n",
    "* Return the output\n",
    "* Apply [TensorFlow's Dropout](https://www.tensorflow.org/api_docs/python/tf/nn/dropout) to one or more layers in the model using `keep_prob`. "
   ]
  },
  {
   "cell_type": "markdown",
   "metadata": {
    "deletable": true,
    "editable": true
   },
   "source": [
    "## Train the Neural Network\n",
    "### Single Optimization\n",
    "Implement the function `train_neural_network` to do a single optimization.  The optimization should use `optimizer` to optimize in `session` with a `feed_dict` of the following:\n",
    "* `x` for image input\n",
    "* `y` for labels\n",
    "* `keep_prob` for keep probability for dropout\n",
    "\n",
    "This function will be called for each batch, so `tf.global_variables_initializer()` has already been called.\n",
    "\n",
    "Note: Nothing needs to be returned. This function is only optimizing the neural network."
   ]
  },
  {
   "cell_type": "code",
   "execution_count": null,
   "metadata": {
    "collapsed": false,
    "deletable": true,
    "editable": true
   },
   "outputs": [],
   "source": [
    "def train_neural_network(session, optimizer, keep_probability, feature_batch, label_batch):\n",
    "    \"\"\"\n",
    "    Optimize the session on a batch of images and labels\n",
    "    : session: Current TensorFlow session\n",
    "    : optimizer: TensorFlow optimizer function\n",
    "    : keep_probability: keep probability\n",
    "    : feature_batch: Batch of Numpy image data\n",
    "    : label_batch: Batch of Numpy label data\n",
    "    \"\"\"\n",
    "    # TODO: Implement Function\n",
    "    session.run(optimizer, feed_dict={\n",
    "               x: feature_batch,\n",
    "               y: label_batch,\n",
    "               keep_prob: keep_probability})\n",
    "    pass\n",
    "\n",
    "\n",
    "\"\"\"\n",
    "DON'T MODIFY ANYTHING IN THIS CELL THAT IS BELOW THIS LINE\n",
    "\"\"\"\n",
    "tests.test_train_nn(train_neural_network)"
   ]
  },
  {
   "cell_type": "markdown",
   "metadata": {
    "deletable": true,
    "editable": true
   },
   "source": [
    "### Show Stats\n",
    "Implement the function `print_stats` to print loss and validation accuracy.  Use the global variables `valid_features` and `valid_labels` to calculate validation accuracy.  Use a keep probability of `1.0` to calculate the loss and validation accuracy."
   ]
  },
  {
   "cell_type": "code",
   "execution_count": 20,
   "metadata": {
    "collapsed": false,
    "deletable": true,
    "editable": true
   },
   "outputs": [],
   "source": [
    "def print_stats(session, feature_batch, label_batch, cost, accuracy):\n",
    "    \"\"\"\n",
    "    Print information about loss and validation accuracy\n",
    "    : session: Current TensorFlow session\n",
    "    : feature_batch: Batch of Numpy image data\n",
    "    : label_batch: Batch of Numpy label data\n",
    "    : cost: TensorFlow cost function\n",
    "    : accuracy: TensorFlow accuracy function\n",
    "    \"\"\"\n",
    "    # TODO: Implement Function\n",
    "    loss = session.run(cost, feed_dict={\n",
    "        x: feature_batch,\n",
    "        y: label_batch,\n",
    "        keep_prob: 1.})\n",
    "    valid_acc = session.run(accuracy, feed_dict={\n",
    "        x: valid_features,\n",
    "        y: valid_labels,\n",
    "        keep_prob: 1.})\n",
    "    print('Loss: {:>10.4f} Validation Accuracy: {:.6f}'.format(\n",
    "            loss,\n",
    "            valid_acc))\n",
    "    pass"
   ]
  },
  {
   "cell_type": "markdown",
   "metadata": {
    "deletable": true,
    "editable": true
   },
   "source": [
    "### Hyperparameters\n",
    "Tune the following parameters:\n",
    "* Set `epochs` to the number of iterations until the network stops learning or start overfitting\n",
    "* Set `batch_size` to the highest number that your machine has memory for.  Most people set them to common sizes of memory:\n",
    " * 64\n",
    " * 128\n",
    " * 256\n",
    " * ...\n",
    "* Set `keep_probability` to the probability of keeping a node using dropout"
   ]
  },
  {
   "cell_type": "code",
   "execution_count": 82,
   "metadata": {
    "collapsed": true,
    "deletable": true,
    "editable": true
   },
   "outputs": [],
   "source": [
    "# TODO: Tune Parameters\n",
    "epochs = 50\n",
    "batch_size = 512\n",
    "keep_probability = 0.80"
   ]
  },
  {
   "cell_type": "code",
   "execution_count": 79,
   "metadata": {
    "collapsed": false,
    "deletable": true,
    "editable": true
   },
   "outputs": [
    {
     "name": "stdout",
     "output_type": "stream",
     "text": [
      "Neural Network Built!\n"
     ]
    }
   ],
   "source": [
    "def conv_net(x, keep_prob):\n",
    "    \"\"\"\n",
    "    Create a convolutional neural network model\n",
    "    : x: Placeholder tensor that holds image data.\n",
    "    : keep_prob: Placeholder tensor that hold dropout keep probability.\n",
    "    : return: Tensor that represents logits\n",
    "    \"\"\"\n",
    "    c_num_outputs1 = 4\n",
    "    c_num_outputs2 = 16\n",
    "    c_num_outputs3 = 64\n",
    "    c_num_outputs4 = 256\n",
    "    c_num_outputs5 = 1024\n",
    "    c_ksize1 = (16,16)\n",
    "    c_stride1= (2,2)\n",
    "    c_ksize2 = (8,8)\n",
    "    c_stride2= (2,2)\n",
    "    c_ksize3 = (4,4)\n",
    "    c_stride3= (2,2)\n",
    "    c_ksize4 = (2,2)\n",
    "    c_stride4= (2,2)\n",
    "    c_ksizeX = (1,1)\n",
    "    c_strideX= (1,1)\n",
    "    pool_ksize = (2,2)\n",
    "    pool_strides = (2,2)\n",
    "    pool_ksize2 = (1,1)\n",
    "    pool_strides2= (1,1)\n",
    "    num_fc_outputs = 100\n",
    "    num_fc_outputs2 = 50\n",
    "    num_fc_outputs3 = 25\n",
    "    num_outputs = 10\n",
    "    dropout= keep_prob\n",
    "    \n",
    "\n",
    "    # TODO: Apply 1, 2, or 3 Convolution and Max Pool layers\n",
    "    #    Play around with different number of outputs, kernel size and stride\n",
    "    # Function Definition from Above:\n",
    "    #    conv2d_maxpool(x_tensor, conv_num_outputs, conv_ksize, conv_strides, pool_ksize, pool_strides)\n",
    "    #x = conv2d_maxpool(x, c_num_outputs1, c_ksize1, c_stride1, pool_ksize, pool_strides)\n",
    "    #x = tf.nn.dropout(x, dropout)\n",
    "    x = conv2d_maxpool(x, 64, (4,4), (1,1), (2,2), (2,2))\n",
    "    x = tf.nn.dropout(x, dropout)\n",
    "    x = conv2d_maxpool(x, 64, (1,1), (1,1), (1,1), (1,1))\n",
    "    x = tf.nn.dropout(x, dropout)\n",
    "    x = conv2d_maxpool(x, 141, (3,3), (1,1), (2,2), (2,2))\n",
    "    x = conv2d_maxpool(x, 141, (1,1), (1,1), (1,1), (1,1))\n",
    "    x = tf.nn.dropout(x, dropout)\n",
    "    x = conv2d_maxpool(x, 256, (2,2), (1,1), (2,2), (2,2))\n",
    "    x = tf.nn.dropout(x, dropout)\n",
    "    x = conv2d_maxpool(x, 256, (1,1), (1,1), (1,1), (1,1))\n",
    "    x = tf.nn.dropout(x, dropout)\n",
    "\n",
    "    # TODO: Apply a Flatten Layer\n",
    "    # Function Definition from Above:\n",
    "    #   flatten(x_tensor)\n",
    "    x = flatten(x)\n",
    "\n",
    "    # TODO: Apply 1, 2, or 3 Fully Connected Layers\n",
    "    #    Play around with different number of outputs\n",
    "    # Function Definition from Above:\n",
    "    #   fully_conn(x_tensor, num_outputs)\n",
    "    x = fully_conn(x, 512)\n",
    "    #x = tf.nn.dropout(x, dropout)\n",
    "    x = fully_conn(x, 256)\n",
    "    #x = tf.nn.dropout(x, dropout)\n",
    "    x = fully_conn(x, 128)\n",
    "    #x = tf.nn.dropout(x, dropout)\n",
    "    x = fully_conn(x, 64)\n",
    "    x = fully_conn(x, 32)\n",
    "    x = fully_conn(x, 20)\n",
    "    \n",
    "    \n",
    "    # TODO: Apply an Output Layer\n",
    "    #    Set this to the number of classes\n",
    "    # Function Definition from Above:\n",
    "    #   output(x_tensor, num_outputs)\n",
    "    x = output(x, 10)\n",
    "    \n",
    "    # TODO: return output\n",
    "    return x\n",
    "\n",
    "\n",
    "\"\"\"\n",
    "DON'T MODIFY ANYTHING IN THIS CELL THAT IS BELOW THIS LINE\n",
    "\"\"\"\n",
    "\n",
    "##############################\n",
    "## Build the Neural Network ##\n",
    "##############################\n",
    "\n",
    "# Remove previous weights, bias, inputs, etc..\n",
    "tf.reset_default_graph()\n",
    "\n",
    "# Inputs\n",
    "x = neural_net_image_input((32, 32, 3))\n",
    "y = neural_net_label_input(10)\n",
    "keep_prob = neural_net_keep_prob_input()\n",
    "\n",
    "# Model\n",
    "logits = conv_net(x, keep_prob)\n",
    "\n",
    "# Name logits Tensor, so that is can be loaded from disk after training\n",
    "logits = tf.identity(logits, name='logits')\n",
    "\n",
    "# Loss and Optimizer\n",
    "cost = tf.reduce_mean(tf.nn.softmax_cross_entropy_with_logits(logits=logits, labels=y))\n",
    "optimizer = tf.train.AdamOptimizer().minimize(cost)\n",
    "\n",
    "# Accuracy\n",
    "correct_pred = tf.equal(tf.argmax(logits, 1), tf.argmax(y, 1))\n",
    "accuracy = tf.reduce_mean(tf.cast(correct_pred, tf.float32), name='accuracy')\n",
    "\n",
    "tests.test_conv_net(conv_net)"
   ]
  },
  {
   "cell_type": "markdown",
   "metadata": {
    "deletable": true,
    "editable": true
   },
   "source": [
    "### Train on a Single CIFAR-10 Batch\n",
    "Instead of training the neural network on all the CIFAR-10 batches of data, let's use a single batch. This should save time while you iterate on the model to get a better accuracy.  Once the final validation accuracy is 50% or greater, run the model on all the data in the next section."
   ]
  },
  {
   "cell_type": "code",
   "execution_count": 80,
   "metadata": {
    "collapsed": false,
    "deletable": true,
    "editable": true
   },
   "outputs": [
    {
     "name": "stdout",
     "output_type": "stream",
     "text": [
      "Checking the Training on a Single Batch...\n",
      "Epoch  1, CIFAR-10 Batch 1:  Loss:     2.4326 Validation Accuracy: 0.099800\n",
      "Epoch  2, CIFAR-10 Batch 1:  Loss:     2.3157 Validation Accuracy: 0.137200\n",
      "Epoch  3, CIFAR-10 Batch 1:  Loss:     2.2000 Validation Accuracy: 0.162000\n",
      "Epoch  4, CIFAR-10 Batch 1:  Loss:     2.0534 Validation Accuracy: 0.233200\n",
      "Epoch  5, CIFAR-10 Batch 1:  Loss:     1.9705 Validation Accuracy: 0.277400\n",
      "Epoch  6, CIFAR-10 Batch 1:  Loss:     1.9091 Validation Accuracy: 0.309800\n",
      "Epoch  7, CIFAR-10 Batch 1:  Loss:     1.8709 Validation Accuracy: 0.322000\n",
      "Epoch  8, CIFAR-10 Batch 1:  Loss:     1.8527 Validation Accuracy: 0.325800\n",
      "Epoch  9, CIFAR-10 Batch 1:  Loss:     1.7517 Validation Accuracy: 0.358600\n",
      "Epoch 10, CIFAR-10 Batch 1:  Loss:     1.7447 Validation Accuracy: 0.368800\n",
      "Epoch 11, CIFAR-10 Batch 1:  Loss:     1.6953 Validation Accuracy: 0.383600\n",
      "Epoch 12, CIFAR-10 Batch 1:  Loss:     1.6273 Validation Accuracy: 0.409400\n",
      "Epoch 13, CIFAR-10 Batch 1:  Loss:     1.5397 Validation Accuracy: 0.430600\n",
      "Epoch 14, CIFAR-10 Batch 1:  Loss:     1.4547 Validation Accuracy: 0.453800\n",
      "Epoch 15, CIFAR-10 Batch 1:  Loss:     1.4304 Validation Accuracy: 0.471000\n",
      "Epoch 16, CIFAR-10 Batch 1:  Loss:     1.3698 Validation Accuracy: 0.484200\n",
      "Epoch 17, CIFAR-10 Batch 1:  Loss:     1.3126 Validation Accuracy: 0.486600\n",
      "Epoch 18, CIFAR-10 Batch 1:  Loss:     1.2229 Validation Accuracy: 0.517600\n",
      "Epoch 19, CIFAR-10 Batch 1:  Loss:     1.1749 Validation Accuracy: 0.529600\n",
      "Epoch 20, CIFAR-10 Batch 1:  Loss:     1.1744 Validation Accuracy: 0.535600\n",
      "Epoch 21, CIFAR-10 Batch 1:  Loss:     1.1342 Validation Accuracy: 0.511400\n",
      "Epoch 22, CIFAR-10 Batch 1:  Loss:     1.0814 Validation Accuracy: 0.530800\n",
      "Epoch 23, CIFAR-10 Batch 1:  Loss:     1.0462 Validation Accuracy: 0.530200\n",
      "Epoch 24, CIFAR-10 Batch 1:  Loss:     1.0059 Validation Accuracy: 0.526200\n",
      "Epoch 25, CIFAR-10 Batch 1:  Loss:     0.8517 Validation Accuracy: 0.557000\n",
      "Epoch 26, CIFAR-10 Batch 1:  Loss:     0.8283 Validation Accuracy: 0.563800\n",
      "Epoch 27, CIFAR-10 Batch 1:  Loss:     0.7649 Validation Accuracy: 0.559000\n",
      "Epoch 28, CIFAR-10 Batch 1:  Loss:     0.7660 Validation Accuracy: 0.547600\n",
      "Epoch 29, CIFAR-10 Batch 1:  Loss:     0.7388 Validation Accuracy: 0.538800\n",
      "Epoch 30, CIFAR-10 Batch 1:  Loss:     0.6168 Validation Accuracy: 0.565200\n",
      "Epoch 31, CIFAR-10 Batch 1:  Loss:     0.6183 Validation Accuracy: 0.550000\n",
      "Epoch 32, CIFAR-10 Batch 1:  Loss:     0.5781 Validation Accuracy: 0.553600\n",
      "Epoch 33, CIFAR-10 Batch 1:  Loss:     0.5332 Validation Accuracy: 0.554400\n",
      "Epoch 34, CIFAR-10 Batch 1:  Loss:     0.4460 Validation Accuracy: 0.573600\n",
      "Epoch 35, CIFAR-10 Batch 1:  Loss:     0.4306 Validation Accuracy: 0.549000\n",
      "Epoch 36, CIFAR-10 Batch 1:  Loss:     0.4036 Validation Accuracy: 0.560400\n",
      "Epoch 37, CIFAR-10 Batch 1:  Loss:     0.3748 Validation Accuracy: 0.565400\n",
      "Epoch 38, CIFAR-10 Batch 1:  Loss:     0.3464 Validation Accuracy: 0.569600\n",
      "Epoch 39, CIFAR-10 Batch 1:  Loss:     0.3202 Validation Accuracy: 0.557000\n",
      "Epoch 40, CIFAR-10 Batch 1:  Loss:     0.3310 Validation Accuracy: 0.553600\n",
      "Epoch 41, CIFAR-10 Batch 1:  Loss:     0.2662 Validation Accuracy: 0.574600\n",
      "Epoch 42, CIFAR-10 Batch 1:  Loss:     0.2638 Validation Accuracy: 0.558800\n",
      "Epoch 43, CIFAR-10 Batch 1:  Loss:     0.1951 Validation Accuracy: 0.571200\n",
      "Epoch 44, CIFAR-10 Batch 1:  Loss:     0.1855 Validation Accuracy: 0.580200\n",
      "Epoch 45, CIFAR-10 Batch 1:  Loss:     0.2092 Validation Accuracy: 0.562000\n",
      "Epoch 46, CIFAR-10 Batch 1:  Loss:     0.1753 Validation Accuracy: 0.579600\n",
      "Epoch 47, CIFAR-10 Batch 1:  Loss:     0.1800 Validation Accuracy: 0.557400\n",
      "Epoch 48, CIFAR-10 Batch 1:  Loss:     0.1232 Validation Accuracy: 0.565000\n",
      "Epoch 49, CIFAR-10 Batch 1:  Loss:     0.1199 Validation Accuracy: 0.569800\n",
      "Epoch 50, CIFAR-10 Batch 1:  Loss:     0.0752 Validation Accuracy: 0.594000\n",
      "Epoch 51, CIFAR-10 Batch 1:  Loss:     0.0825 Validation Accuracy: 0.569800\n",
      "Epoch 52, CIFAR-10 Batch 1:  Loss:     0.0821 Validation Accuracy: 0.574200\n",
      "Epoch 53, CIFAR-10 Batch 1:  Loss:     0.1027 Validation Accuracy: 0.573200\n",
      "Epoch 54, CIFAR-10 Batch 1:  Loss:     0.0960 Validation Accuracy: 0.571000\n",
      "Epoch 55, CIFAR-10 Batch 1:  Loss:     0.0827 Validation Accuracy: 0.580800\n",
      "Epoch 56, CIFAR-10 Batch 1:  Loss:     0.0882 Validation Accuracy: 0.568600\n",
      "Epoch 57, CIFAR-10 Batch 1:  Loss:     0.0503 Validation Accuracy: 0.581200\n",
      "Epoch 58, CIFAR-10 Batch 1:  Loss:     0.0568 Validation Accuracy: 0.570600\n",
      "Epoch 59, CIFAR-10 Batch 1:  Loss:     0.0519 Validation Accuracy: 0.570800\n",
      "Epoch 60, CIFAR-10 Batch 1:  Loss:     0.0824 Validation Accuracy: 0.556000\n",
      "Epoch 61, CIFAR-10 Batch 1:  Loss:     0.0469 Validation Accuracy: 0.565400\n",
      "Epoch 62, CIFAR-10 Batch 1:  Loss:     0.0401 Validation Accuracy: 0.558000\n",
      "Epoch 63, CIFAR-10 Batch 1:  Loss:     0.0492 Validation Accuracy: 0.558600\n",
      "Epoch 64, CIFAR-10 Batch 1:  Loss:     0.0410 Validation Accuracy: 0.557000\n",
      "Epoch 65, CIFAR-10 Batch 1:  Loss:     0.0350 Validation Accuracy: 0.571400\n",
      "Epoch 66, CIFAR-10 Batch 1:  Loss:     0.0419 Validation Accuracy: 0.563600\n",
      "Epoch 67, CIFAR-10 Batch 1:  Loss:     0.0423 Validation Accuracy: 0.559800\n",
      "Epoch 68, CIFAR-10 Batch 1:  Loss:     0.0378 Validation Accuracy: 0.567000\n",
      "Epoch 69, CIFAR-10 Batch 1:  Loss:     0.0166 Validation Accuracy: 0.588200\n",
      "Epoch 70, CIFAR-10 Batch 1:  Loss:     0.0088 Validation Accuracy: 0.583000\n",
      "Epoch 71, CIFAR-10 Batch 1:  Loss:     0.0143 Validation Accuracy: 0.579800\n",
      "Epoch 72, CIFAR-10 Batch 1:  Loss:     0.0263 Validation Accuracy: 0.557800\n",
      "Epoch 73, CIFAR-10 Batch 1:  Loss:     0.0279 Validation Accuracy: 0.558400\n",
      "Epoch 74, CIFAR-10 Batch 1:  Loss:     0.0234 Validation Accuracy: 0.561800\n",
      "Epoch 75, CIFAR-10 Batch 1:  Loss:     0.0112 Validation Accuracy: 0.572600\n"
     ]
    }
   ],
   "source": [
    "\"\"\"\n",
    "DON'T MODIFY ANYTHING IN THIS CELL\n",
    "\"\"\"\n",
    "print('Checking the Training on a Single Batch...')\n",
    "with tf.Session() as sess:\n",
    "    # Initializing the variables\n",
    "    sess.run(tf.global_variables_initializer())\n",
    "    \n",
    "    # Training cycle\n",
    "    for epoch in range(epochs):\n",
    "        batch_i = 1\n",
    "        for batch_features, batch_labels in helper.load_preprocess_training_batch(batch_i, batch_size):\n",
    "            train_neural_network(sess, optimizer, keep_probability, batch_features, batch_labels)\n",
    "        print('Epoch {:>2}, CIFAR-10 Batch {}:  '.format(epoch + 1, batch_i), end='')\n",
    "        print_stats(sess, batch_features, batch_labels, cost, accuracy)"
   ]
  },
  {
   "cell_type": "markdown",
   "metadata": {
    "deletable": true,
    "editable": true
   },
   "source": [
    "### Fully Train the Model\n",
    "Now that you got a good accuracy with a single CIFAR-10 batch, try it with all five batches."
   ]
  },
  {
   "cell_type": "code",
   "execution_count": 83,
   "metadata": {
    "collapsed": false,
    "deletable": true,
    "editable": true
   },
   "outputs": [
    {
     "name": "stdout",
     "output_type": "stream",
     "text": [
      "Training...\n",
      "Epoch  1, CIFAR-10 Batch 1:  Loss:     2.3855 Validation Accuracy: 0.103200\n",
      "Epoch  1, CIFAR-10 Batch 2:  Loss:     2.2531 Validation Accuracy: 0.151200\n",
      "Epoch  1, CIFAR-10 Batch 3:  Loss:     2.2056 Validation Accuracy: 0.154000\n",
      "Epoch  1, CIFAR-10 Batch 4:  Loss:     2.1204 Validation Accuracy: 0.184400\n",
      "Epoch  1, CIFAR-10 Batch 5:  Loss:     1.9807 Validation Accuracy: 0.265400\n",
      "Epoch  2, CIFAR-10 Batch 1:  Loss:     1.8810 Validation Accuracy: 0.308000\n",
      "Epoch  2, CIFAR-10 Batch 2:  Loss:     1.6966 Validation Accuracy: 0.372200\n",
      "Epoch  2, CIFAR-10 Batch 3:  Loss:     1.5463 Validation Accuracy: 0.414800\n",
      "Epoch  2, CIFAR-10 Batch 4:  Loss:     1.5390 Validation Accuracy: 0.421800\n",
      "Epoch  2, CIFAR-10 Batch 5:  Loss:     1.4624 Validation Accuracy: 0.442000\n",
      "Epoch  3, CIFAR-10 Batch 1:  Loss:     1.5103 Validation Accuracy: 0.461000\n",
      "Epoch  3, CIFAR-10 Batch 2:  Loss:     1.4534 Validation Accuracy: 0.453200\n",
      "Epoch  3, CIFAR-10 Batch 3:  Loss:     1.4153 Validation Accuracy: 0.448600\n",
      "Epoch  3, CIFAR-10 Batch 4:  Loss:     1.2948 Validation Accuracy: 0.493800\n",
      "Epoch  3, CIFAR-10 Batch 5:  Loss:     1.3604 Validation Accuracy: 0.476600\n",
      "Epoch  4, CIFAR-10 Batch 1:  Loss:     1.3599 Validation Accuracy: 0.511200\n",
      "Epoch  4, CIFAR-10 Batch 2:  Loss:     1.2888 Validation Accuracy: 0.514200\n",
      "Epoch  4, CIFAR-10 Batch 3:  Loss:     1.2186 Validation Accuracy: 0.520800\n",
      "Epoch  4, CIFAR-10 Batch 4:  Loss:     1.2398 Validation Accuracy: 0.500200\n",
      "Epoch  4, CIFAR-10 Batch 5:  Loss:     1.2584 Validation Accuracy: 0.509000\n",
      "Epoch  5, CIFAR-10 Batch 1:  Loss:     1.2309 Validation Accuracy: 0.565800\n",
      "Epoch  5, CIFAR-10 Batch 2:  Loss:     1.1943 Validation Accuracy: 0.542800\n",
      "Epoch  5, CIFAR-10 Batch 3:  Loss:     1.1016 Validation Accuracy: 0.550600\n",
      "Epoch  5, CIFAR-10 Batch 4:  Loss:     1.1302 Validation Accuracy: 0.540600\n",
      "Epoch  5, CIFAR-10 Batch 5:  Loss:     1.2092 Validation Accuracy: 0.541200\n",
      "Epoch  6, CIFAR-10 Batch 1:  Loss:     1.1248 Validation Accuracy: 0.596000\n",
      "Epoch  6, CIFAR-10 Batch 2:  Loss:     1.0206 Validation Accuracy: 0.598200\n",
      "Epoch  6, CIFAR-10 Batch 3:  Loss:     1.0003 Validation Accuracy: 0.576400\n",
      "Epoch  6, CIFAR-10 Batch 4:  Loss:     0.9430 Validation Accuracy: 0.595200\n",
      "Epoch  6, CIFAR-10 Batch 5:  Loss:     0.9562 Validation Accuracy: 0.602600\n",
      "Epoch  7, CIFAR-10 Batch 1:  Loss:     1.0123 Validation Accuracy: 0.616600\n",
      "Epoch  7, CIFAR-10 Batch 2:  Loss:     0.9268 Validation Accuracy: 0.615800\n",
      "Epoch  7, CIFAR-10 Batch 3:  Loss:     0.9453 Validation Accuracy: 0.610200\n",
      "Epoch  7, CIFAR-10 Batch 4:  Loss:     0.9667 Validation Accuracy: 0.583000\n",
      "Epoch  7, CIFAR-10 Batch 5:  Loss:     0.9928 Validation Accuracy: 0.592400\n",
      "Epoch  8, CIFAR-10 Batch 1:  Loss:     0.9005 Validation Accuracy: 0.640600\n",
      "Epoch  8, CIFAR-10 Batch 2:  Loss:     0.9395 Validation Accuracy: 0.623400\n",
      "Epoch  8, CIFAR-10 Batch 3:  Loss:     0.9230 Validation Accuracy: 0.610400\n",
      "Epoch  8, CIFAR-10 Batch 4:  Loss:     0.7757 Validation Accuracy: 0.650000\n",
      "Epoch  8, CIFAR-10 Batch 5:  Loss:     0.9226 Validation Accuracy: 0.601200\n",
      "Epoch  9, CIFAR-10 Batch 1:  Loss:     0.8554 Validation Accuracy: 0.658200\n",
      "Epoch  9, CIFAR-10 Batch 2:  Loss:     0.8709 Validation Accuracy: 0.634800\n",
      "Epoch  9, CIFAR-10 Batch 3:  Loss:     0.7834 Validation Accuracy: 0.660000\n",
      "Epoch  9, CIFAR-10 Batch 4:  Loss:     0.7620 Validation Accuracy: 0.645000\n",
      "Epoch  9, CIFAR-10 Batch 5:  Loss:     0.8301 Validation Accuracy: 0.628200\n",
      "Epoch 10, CIFAR-10 Batch 1:  Loss:     0.8148 Validation Accuracy: 0.652400\n",
      "Epoch 10, CIFAR-10 Batch 2:  Loss:     0.9358 Validation Accuracy: 0.626000\n",
      "Epoch 10, CIFAR-10 Batch 3:  Loss:     0.6999 Validation Accuracy: 0.678000\n",
      "Epoch 10, CIFAR-10 Batch 4:  Loss:     0.6506 Validation Accuracy: 0.672800\n",
      "Epoch 10, CIFAR-10 Batch 5:  Loss:     0.6923 Validation Accuracy: 0.668200\n",
      "Epoch 11, CIFAR-10 Batch 1:  Loss:     0.7343 Validation Accuracy: 0.672600\n",
      "Epoch 11, CIFAR-10 Batch 2:  Loss:     0.8449 Validation Accuracy: 0.635200\n",
      "Epoch 11, CIFAR-10 Batch 3:  Loss:     0.6350 Validation Accuracy: 0.685200\n",
      "Epoch 11, CIFAR-10 Batch 4:  Loss:     0.6108 Validation Accuracy: 0.678600\n",
      "Epoch 11, CIFAR-10 Batch 5:  Loss:     0.6220 Validation Accuracy: 0.691000\n",
      "Epoch 12, CIFAR-10 Batch 1:  Loss:     0.7323 Validation Accuracy: 0.685600\n",
      "Epoch 12, CIFAR-10 Batch 2:  Loss:     0.7617 Validation Accuracy: 0.654400\n",
      "Epoch 12, CIFAR-10 Batch 3:  Loss:     0.5499 Validation Accuracy: 0.702800\n",
      "Epoch 12, CIFAR-10 Batch 4:  Loss:     0.5709 Validation Accuracy: 0.687400\n",
      "Epoch 12, CIFAR-10 Batch 5:  Loss:     0.6037 Validation Accuracy: 0.700800\n",
      "Epoch 13, CIFAR-10 Batch 1:  Loss:     0.6464 Validation Accuracy: 0.683200\n",
      "Epoch 13, CIFAR-10 Batch 2:  Loss:     0.6166 Validation Accuracy: 0.689600\n",
      "Epoch 13, CIFAR-10 Batch 3:  Loss:     0.5234 Validation Accuracy: 0.710000\n",
      "Epoch 13, CIFAR-10 Batch 4:  Loss:     0.4870 Validation Accuracy: 0.709200\n",
      "Epoch 13, CIFAR-10 Batch 5:  Loss:     0.5058 Validation Accuracy: 0.714600\n",
      "Epoch 14, CIFAR-10 Batch 1:  Loss:     0.6103 Validation Accuracy: 0.700800\n",
      "Epoch 14, CIFAR-10 Batch 2:  Loss:     0.5097 Validation Accuracy: 0.717200\n",
      "Epoch 14, CIFAR-10 Batch 3:  Loss:     0.4644 Validation Accuracy: 0.711800\n",
      "Epoch 14, CIFAR-10 Batch 4:  Loss:     0.4432 Validation Accuracy: 0.720400\n",
      "Epoch 14, CIFAR-10 Batch 5:  Loss:     0.4973 Validation Accuracy: 0.717200\n",
      "Epoch 15, CIFAR-10 Batch 1:  Loss:     0.5287 Validation Accuracy: 0.698000\n",
      "Epoch 15, CIFAR-10 Batch 2:  Loss:     0.4554 Validation Accuracy: 0.728600\n",
      "Epoch 15, CIFAR-10 Batch 3:  Loss:     0.4289 Validation Accuracy: 0.715200\n",
      "Epoch 15, CIFAR-10 Batch 4:  Loss:     0.4384 Validation Accuracy: 0.716000\n",
      "Epoch 15, CIFAR-10 Batch 5:  Loss:     0.4072 Validation Accuracy: 0.726800\n",
      "Epoch 16, CIFAR-10 Batch 1:  Loss:     0.5457 Validation Accuracy: 0.707800\n",
      "Epoch 16, CIFAR-10 Batch 2:  Loss:     0.4243 Validation Accuracy: 0.718600\n",
      "Epoch 16, CIFAR-10 Batch 3:  Loss:     0.3785 Validation Accuracy: 0.724000\n",
      "Epoch 16, CIFAR-10 Batch 4:  Loss:     0.3741 Validation Accuracy: 0.723600\n",
      "Epoch 16, CIFAR-10 Batch 5:  Loss:     0.4654 Validation Accuracy: 0.708800\n",
      "Epoch 17, CIFAR-10 Batch 1:  Loss:     0.4462 Validation Accuracy: 0.702000\n",
      "Epoch 17, CIFAR-10 Batch 2:  Loss:     0.4643 Validation Accuracy: 0.705800\n",
      "Epoch 17, CIFAR-10 Batch 3:  Loss:     0.3749 Validation Accuracy: 0.731000\n",
      "Epoch 17, CIFAR-10 Batch 4:  Loss:     0.3449 Validation Accuracy: 0.728800\n",
      "Epoch 17, CIFAR-10 Batch 5:  Loss:     0.4007 Validation Accuracy: 0.705600\n",
      "Epoch 18, CIFAR-10 Batch 1:  Loss:     0.3383 Validation Accuracy: 0.743800\n",
      "Epoch 18, CIFAR-10 Batch 2:  Loss:     0.4077 Validation Accuracy: 0.700400\n",
      "Epoch 18, CIFAR-10 Batch 3:  Loss:     0.3053 Validation Accuracy: 0.735000\n",
      "Epoch 18, CIFAR-10 Batch 4:  Loss:     0.2928 Validation Accuracy: 0.747200\n",
      "Epoch 18, CIFAR-10 Batch 5:  Loss:     0.3736 Validation Accuracy: 0.718000\n",
      "Epoch 19, CIFAR-10 Batch 1:  Loss:     0.3499 Validation Accuracy: 0.720000\n",
      "Epoch 19, CIFAR-10 Batch 2:  Loss:     0.3336 Validation Accuracy: 0.737800\n",
      "Epoch 19, CIFAR-10 Batch 3:  Loss:     0.2959 Validation Accuracy: 0.730800\n",
      "Epoch 19, CIFAR-10 Batch 4:  Loss:     0.2664 Validation Accuracy: 0.740400\n",
      "Epoch 19, CIFAR-10 Batch 5:  Loss:     0.3604 Validation Accuracy: 0.710800\n",
      "Epoch 20, CIFAR-10 Batch 1:  Loss:     0.2472 Validation Accuracy: 0.747000\n",
      "Epoch 20, CIFAR-10 Batch 2:  Loss:     0.2900 Validation Accuracy: 0.738800\n",
      "Epoch 20, CIFAR-10 Batch 3:  Loss:     0.2196 Validation Accuracy: 0.755800\n",
      "Epoch 20, CIFAR-10 Batch 4:  Loss:     0.2291 Validation Accuracy: 0.758000\n",
      "Epoch 20, CIFAR-10 Batch 5:  Loss:     0.3374 Validation Accuracy: 0.721600\n",
      "Epoch 21, CIFAR-10 Batch 1:  Loss:     0.2212 Validation Accuracy: 0.740200\n",
      "Epoch 21, CIFAR-10 Batch 2:  Loss:     0.2601 Validation Accuracy: 0.738000\n",
      "Epoch 21, CIFAR-10 Batch 3:  Loss:     0.2172 Validation Accuracy: 0.736200\n",
      "Epoch 21, CIFAR-10 Batch 4:  Loss:     0.2250 Validation Accuracy: 0.742800\n",
      "Epoch 21, CIFAR-10 Batch 5:  Loss:     0.2813 Validation Accuracy: 0.721000\n",
      "Epoch 22, CIFAR-10 Batch 1:  Loss:     0.1954 Validation Accuracy: 0.735600\n",
      "Epoch 22, CIFAR-10 Batch 2:  Loss:     0.2045 Validation Accuracy: 0.748600\n",
      "Epoch 22, CIFAR-10 Batch 3:  Loss:     0.1748 Validation Accuracy: 0.748400\n",
      "Epoch 22, CIFAR-10 Batch 4:  Loss:     0.2577 Validation Accuracy: 0.725800\n",
      "Epoch 22, CIFAR-10 Batch 5:  Loss:     0.2625 Validation Accuracy: 0.715600\n",
      "Epoch 23, CIFAR-10 Batch 1:  Loss:     0.1917 Validation Accuracy: 0.735000\n",
      "Epoch 23, CIFAR-10 Batch 2:  Loss:     0.2234 Validation Accuracy: 0.748800\n",
      "Epoch 23, CIFAR-10 Batch 3:  Loss:     0.1471 Validation Accuracy: 0.750800\n",
      "Epoch 23, CIFAR-10 Batch 4:  Loss:     0.1755 Validation Accuracy: 0.738800\n",
      "Epoch 23, CIFAR-10 Batch 5:  Loss:     0.2167 Validation Accuracy: 0.731600\n",
      "Epoch 24, CIFAR-10 Batch 1:  Loss:     0.1918 Validation Accuracy: 0.738200\n",
      "Epoch 24, CIFAR-10 Batch 2:  Loss:     0.2182 Validation Accuracy: 0.747800\n",
      "Epoch 24, CIFAR-10 Batch 3:  Loss:     0.2011 Validation Accuracy: 0.730200\n",
      "Epoch 24, CIFAR-10 Batch 4:  Loss:     0.1567 Validation Accuracy: 0.739200\n",
      "Epoch 24, CIFAR-10 Batch 5:  Loss:     0.1434 Validation Accuracy: 0.741200\n",
      "Epoch 25, CIFAR-10 Batch 1:  Loss:     0.1500 Validation Accuracy: 0.740800\n",
      "Epoch 25, CIFAR-10 Batch 2:  Loss:     0.1445 Validation Accuracy: 0.750200\n",
      "Epoch 25, CIFAR-10 Batch 3:  Loss:     0.1883 Validation Accuracy: 0.731400\n",
      "Epoch 25, CIFAR-10 Batch 4:  Loss:     0.1487 Validation Accuracy: 0.736600\n",
      "Epoch 25, CIFAR-10 Batch 5:  Loss:     0.1299 Validation Accuracy: 0.741800\n",
      "Epoch 26, CIFAR-10 Batch 1:  Loss:     0.1374 Validation Accuracy: 0.732800\n",
      "Epoch 26, CIFAR-10 Batch 2:  Loss:     0.1031 Validation Accuracy: 0.759800\n",
      "Epoch 26, CIFAR-10 Batch 3:  Loss:     0.1209 Validation Accuracy: 0.739000\n",
      "Epoch 26, CIFAR-10 Batch 4:  Loss:     0.1143 Validation Accuracy: 0.745200\n",
      "Epoch 26, CIFAR-10 Batch 5:  Loss:     0.1131 Validation Accuracy: 0.736800\n",
      "Epoch 27, CIFAR-10 Batch 1:  Loss:     0.1051 Validation Accuracy: 0.745000\n",
      "Epoch 27, CIFAR-10 Batch 2:  Loss:     0.1108 Validation Accuracy: 0.748600\n",
      "Epoch 27, CIFAR-10 Batch 3:  Loss:     0.1281 Validation Accuracy: 0.730200\n",
      "Epoch 27, CIFAR-10 Batch 4:  Loss:     0.1017 Validation Accuracy: 0.729400\n",
      "Epoch 27, CIFAR-10 Batch 5:  Loss:     0.0764 Validation Accuracy: 0.755400\n",
      "Epoch 28, CIFAR-10 Batch 1:  Loss:     0.0988 Validation Accuracy: 0.756800\n",
      "Epoch 28, CIFAR-10 Batch 2:  Loss:     0.1131 Validation Accuracy: 0.735400\n",
      "Epoch 28, CIFAR-10 Batch 3:  Loss:     0.0897 Validation Accuracy: 0.746000\n",
      "Epoch 28, CIFAR-10 Batch 4:  Loss:     0.0887 Validation Accuracy: 0.737000\n",
      "Epoch 28, CIFAR-10 Batch 5:  Loss:     0.0708 Validation Accuracy: 0.750000\n",
      "Epoch 29, CIFAR-10 Batch 1:  Loss:     0.0748 Validation Accuracy: 0.752200\n",
      "Epoch 29, CIFAR-10 Batch 2:  Loss:     0.1019 Validation Accuracy: 0.741800\n",
      "Epoch 29, CIFAR-10 Batch 3:  Loss:     0.0658 Validation Accuracy: 0.742200\n",
      "Epoch 29, CIFAR-10 Batch 4:  Loss:     0.0733 Validation Accuracy: 0.744400\n",
      "Epoch 29, CIFAR-10 Batch 5:  Loss:     0.0662 Validation Accuracy: 0.753800\n",
      "Epoch 30, CIFAR-10 Batch 1:  Loss:     0.0795 Validation Accuracy: 0.750800\n",
      "Epoch 30, CIFAR-10 Batch 2:  Loss:     0.0814 Validation Accuracy: 0.740600\n",
      "Epoch 30, CIFAR-10 Batch 3:  Loss:     0.0649 Validation Accuracy: 0.743000\n",
      "Epoch 30, CIFAR-10 Batch 4:  Loss:     0.0556 Validation Accuracy: 0.744400\n",
      "Epoch 30, CIFAR-10 Batch 5:  Loss:     0.0589 Validation Accuracy: 0.757200\n",
      "Epoch 31, CIFAR-10 Batch 1:  Loss:     0.0665 Validation Accuracy: 0.748600\n",
      "Epoch 31, CIFAR-10 Batch 2:  Loss:     0.0760 Validation Accuracy: 0.750000\n",
      "Epoch 31, CIFAR-10 Batch 3:  Loss:     0.0600 Validation Accuracy: 0.739600\n",
      "Epoch 31, CIFAR-10 Batch 4:  Loss:     0.0814 Validation Accuracy: 0.742200\n",
      "Epoch 31, CIFAR-10 Batch 5:  Loss:     0.1076 Validation Accuracy: 0.734800\n",
      "Epoch 32, CIFAR-10 Batch 1:  Loss:     0.0640 Validation Accuracy: 0.746800\n",
      "Epoch 32, CIFAR-10 Batch 2:  Loss:     0.0796 Validation Accuracy: 0.731000\n",
      "Epoch 32, CIFAR-10 Batch 3:  Loss:     0.0400 Validation Accuracy: 0.759200\n",
      "Epoch 32, CIFAR-10 Batch 4:  Loss:     0.0440 Validation Accuracy: 0.736000\n",
      "Epoch 32, CIFAR-10 Batch 5:  Loss:     0.0632 Validation Accuracy: 0.738400\n",
      "Epoch 33, CIFAR-10 Batch 1:  Loss:     0.0705 Validation Accuracy: 0.741000\n",
      "Epoch 33, CIFAR-10 Batch 2:  Loss:     0.0707 Validation Accuracy: 0.748600\n",
      "Epoch 33, CIFAR-10 Batch 3:  Loss:     0.0336 Validation Accuracy: 0.764600\n",
      "Epoch 33, CIFAR-10 Batch 4:  Loss:     0.0607 Validation Accuracy: 0.744000\n",
      "Epoch 33, CIFAR-10 Batch 5:  Loss:     0.0592 Validation Accuracy: 0.741600\n",
      "Epoch 34, CIFAR-10 Batch 1:  Loss:     0.0571 Validation Accuracy: 0.736400\n",
      "Epoch 34, CIFAR-10 Batch 2:  Loss:     0.0928 Validation Accuracy: 0.732800\n",
      "Epoch 34, CIFAR-10 Batch 3:  Loss:     0.0420 Validation Accuracy: 0.751200\n",
      "Epoch 34, CIFAR-10 Batch 4:  Loss:     0.0463 Validation Accuracy: 0.739800\n",
      "Epoch 34, CIFAR-10 Batch 5:  Loss:     0.0555 Validation Accuracy: 0.740000\n",
      "Epoch 35, CIFAR-10 Batch 1:  Loss:     0.0415 Validation Accuracy: 0.747400\n",
      "Epoch 35, CIFAR-10 Batch 2:  Loss:     0.0633 Validation Accuracy: 0.741400\n",
      "Epoch 35, CIFAR-10 Batch 3:  Loss:     0.0480 Validation Accuracy: 0.745400\n",
      "Epoch 35, CIFAR-10 Batch 4:  Loss:     0.0541 Validation Accuracy: 0.735800\n",
      "Epoch 35, CIFAR-10 Batch 5:  Loss:     0.0427 Validation Accuracy: 0.738600\n",
      "Epoch 36, CIFAR-10 Batch 1:  Loss:     0.0342 Validation Accuracy: 0.742200\n",
      "Epoch 36, CIFAR-10 Batch 2:  Loss:     0.0522 Validation Accuracy: 0.747800\n",
      "Epoch 36, CIFAR-10 Batch 3:  Loss:     0.0390 Validation Accuracy: 0.742000\n",
      "Epoch 36, CIFAR-10 Batch 4:  Loss:     0.0468 Validation Accuracy: 0.742800\n",
      "Epoch 36, CIFAR-10 Batch 5:  Loss:     0.0541 Validation Accuracy: 0.735600\n",
      "Epoch 37, CIFAR-10 Batch 1:  Loss:     0.0186 Validation Accuracy: 0.747600\n",
      "Epoch 37, CIFAR-10 Batch 2:  Loss:     0.0258 Validation Accuracy: 0.752600\n",
      "Epoch 37, CIFAR-10 Batch 3:  Loss:     0.0210 Validation Accuracy: 0.750800\n",
      "Epoch 37, CIFAR-10 Batch 4:  Loss:     0.0247 Validation Accuracy: 0.754800\n",
      "Epoch 37, CIFAR-10 Batch 5:  Loss:     0.0455 Validation Accuracy: 0.733000\n",
      "Epoch 38, CIFAR-10 Batch 1:  Loss:     0.0271 Validation Accuracy: 0.742800\n",
      "Epoch 38, CIFAR-10 Batch 2:  Loss:     0.0365 Validation Accuracy: 0.754600\n",
      "Epoch 38, CIFAR-10 Batch 3:  Loss:     0.0269 Validation Accuracy: 0.749000\n",
      "Epoch 38, CIFAR-10 Batch 4:  Loss:     0.0312 Validation Accuracy: 0.749800\n",
      "Epoch 38, CIFAR-10 Batch 5:  Loss:     0.0413 Validation Accuracy: 0.736600\n",
      "Epoch 39, CIFAR-10 Batch 1:  Loss:     0.0279 Validation Accuracy: 0.750200\n",
      "Epoch 39, CIFAR-10 Batch 2:  Loss:     0.0277 Validation Accuracy: 0.747000\n",
      "Epoch 39, CIFAR-10 Batch 3:  Loss:     0.0261 Validation Accuracy: 0.745800\n",
      "Epoch 39, CIFAR-10 Batch 4:  Loss:     0.0400 Validation Accuracy: 0.742600\n",
      "Epoch 39, CIFAR-10 Batch 5:  Loss:     0.0334 Validation Accuracy: 0.737800\n",
      "Epoch 40, CIFAR-10 Batch 1:  Loss:     0.0185 Validation Accuracy: 0.735000\n",
      "Epoch 40, CIFAR-10 Batch 2:  Loss:     0.0240 Validation Accuracy: 0.750800\n",
      "Epoch 40, CIFAR-10 Batch 3:  Loss:     0.0161 Validation Accuracy: 0.753000\n",
      "Epoch 40, CIFAR-10 Batch 4:  Loss:     0.0253 Validation Accuracy: 0.747000\n",
      "Epoch 40, CIFAR-10 Batch 5:  Loss:     0.0289 Validation Accuracy: 0.742200\n",
      "Epoch 41, CIFAR-10 Batch 1:  Loss:     0.0159 Validation Accuracy: 0.757200\n",
      "Epoch 41, CIFAR-10 Batch 2:  Loss:     0.0252 Validation Accuracy: 0.753400\n",
      "Epoch 41, CIFAR-10 Batch 3:  Loss:     0.0302 Validation Accuracy: 0.737800\n",
      "Epoch 41, CIFAR-10 Batch 4:  Loss:     0.0207 Validation Accuracy: 0.754200\n",
      "Epoch 41, CIFAR-10 Batch 5:  Loss:     0.0302 Validation Accuracy: 0.740000\n",
      "Epoch 42, CIFAR-10 Batch 1:  Loss:     0.0153 Validation Accuracy: 0.760400\n",
      "Epoch 42, CIFAR-10 Batch 2:  Loss:     0.0299 Validation Accuracy: 0.739800\n",
      "Epoch 42, CIFAR-10 Batch 3:  Loss:     0.0286 Validation Accuracy: 0.743000\n",
      "Epoch 42, CIFAR-10 Batch 4:  Loss:     0.0236 Validation Accuracy: 0.753200\n",
      "Epoch 42, CIFAR-10 Batch 5:  Loss:     0.0235 Validation Accuracy: 0.744200\n",
      "Epoch 43, CIFAR-10 Batch 1:  Loss:     0.0102 Validation Accuracy: 0.759800\n",
      "Epoch 43, CIFAR-10 Batch 2:  Loss:     0.0206 Validation Accuracy: 0.750200\n",
      "Epoch 43, CIFAR-10 Batch 3:  Loss:     0.0229 Validation Accuracy: 0.728400\n",
      "Epoch 43, CIFAR-10 Batch 4:  Loss:     0.0308 Validation Accuracy: 0.751600\n",
      "Epoch 43, CIFAR-10 Batch 5:  Loss:     0.0466 Validation Accuracy: 0.738400\n",
      "Epoch 44, CIFAR-10 Batch 1:  Loss:     0.0119 Validation Accuracy: 0.751200\n",
      "Epoch 44, CIFAR-10 Batch 2:  Loss:     0.0237 Validation Accuracy: 0.747200\n",
      "Epoch 44, CIFAR-10 Batch 3:  Loss:     0.0318 Validation Accuracy: 0.725200\n",
      "Epoch 44, CIFAR-10 Batch 4:  Loss:     0.0229 Validation Accuracy: 0.741800\n",
      "Epoch 44, CIFAR-10 Batch 5:  Loss:     0.0367 Validation Accuracy: 0.743400\n",
      "Epoch 45, CIFAR-10 Batch 1:  Loss:     0.0112 Validation Accuracy: 0.753000\n",
      "Epoch 45, CIFAR-10 Batch 2:  Loss:     0.0210 Validation Accuracy: 0.741400\n",
      "Epoch 45, CIFAR-10 Batch 3:  Loss:     0.0337 Validation Accuracy: 0.719800\n",
      "Epoch 45, CIFAR-10 Batch 4:  Loss:     0.0150 Validation Accuracy: 0.746000\n",
      "Epoch 45, CIFAR-10 Batch 5:  Loss:     0.0164 Validation Accuracy: 0.748600\n",
      "Epoch 46, CIFAR-10 Batch 1:  Loss:     0.0077 Validation Accuracy: 0.751600\n",
      "Epoch 46, CIFAR-10 Batch 2:  Loss:     0.0082 Validation Accuracy: 0.756800\n",
      "Epoch 46, CIFAR-10 Batch 3:  Loss:     0.0141 Validation Accuracy: 0.728200\n",
      "Epoch 46, CIFAR-10 Batch 4:  Loss:     0.0173 Validation Accuracy: 0.754200\n",
      "Epoch 46, CIFAR-10 Batch 5:  Loss:     0.0143 Validation Accuracy: 0.750200\n",
      "Epoch 47, CIFAR-10 Batch 1:  Loss:     0.0059 Validation Accuracy: 0.754800\n",
      "Epoch 47, CIFAR-10 Batch 2:  Loss:     0.0589 Validation Accuracy: 0.736800\n",
      "Epoch 47, CIFAR-10 Batch 3:  Loss:     0.0134 Validation Accuracy: 0.728000\n",
      "Epoch 47, CIFAR-10 Batch 4:  Loss:     0.0096 Validation Accuracy: 0.759200\n",
      "Epoch 47, CIFAR-10 Batch 5:  Loss:     0.0153 Validation Accuracy: 0.733600\n",
      "Epoch 48, CIFAR-10 Batch 1:  Loss:     0.0078 Validation Accuracy: 0.753600\n",
      "Epoch 48, CIFAR-10 Batch 2:  Loss:     0.0235 Validation Accuracy: 0.745200\n",
      "Epoch 48, CIFAR-10 Batch 3:  Loss:     0.0092 Validation Accuracy: 0.730000\n",
      "Epoch 48, CIFAR-10 Batch 4:  Loss:     0.0160 Validation Accuracy: 0.751800\n",
      "Epoch 48, CIFAR-10 Batch 5:  Loss:     0.0150 Validation Accuracy: 0.743000\n",
      "Epoch 49, CIFAR-10 Batch 1:  Loss:     0.0081 Validation Accuracy: 0.753400\n",
      "Epoch 49, CIFAR-10 Batch 2:  Loss:     0.0124 Validation Accuracy: 0.748400\n",
      "Epoch 49, CIFAR-10 Batch 3:  Loss:     0.0095 Validation Accuracy: 0.736000\n",
      "Epoch 49, CIFAR-10 Batch 4:  Loss:     0.0143 Validation Accuracy: 0.750400\n",
      "Epoch 49, CIFAR-10 Batch 5:  Loss:     0.0184 Validation Accuracy: 0.727600\n",
      "Epoch 50, CIFAR-10 Batch 1:  Loss:     0.0103 Validation Accuracy: 0.749600\n",
      "Epoch 50, CIFAR-10 Batch 2:  Loss:     0.0100 Validation Accuracy: 0.754800\n",
      "Epoch 50, CIFAR-10 Batch 3:  Loss:     0.0130 Validation Accuracy: 0.731800\n",
      "Epoch 50, CIFAR-10 Batch 4:  Loss:     0.0071 Validation Accuracy: 0.749400\n",
      "Epoch 50, CIFAR-10 Batch 5:  Loss:     0.0094 Validation Accuracy: 0.756600\n"
     ]
    }
   ],
   "source": [
    "\"\"\"\n",
    "DON'T MODIFY ANYTHING IN THIS CELL\n",
    "\"\"\"\n",
    "save_model_path = './image_classification'\n",
    "\n",
    "print('Training...')\n",
    "with tf.Session() as sess:\n",
    "    # Initializing the variables\n",
    "    sess.run(tf.global_variables_initializer())\n",
    "    \n",
    "    # Training cycle\n",
    "    for epoch in range(epochs):\n",
    "        # Loop over all batches\n",
    "        n_batches = 5\n",
    "        for batch_i in range(1, n_batches + 1):\n",
    "            for batch_features, batch_labels in helper.load_preprocess_training_batch(batch_i, batch_size):\n",
    "                train_neural_network(sess, optimizer, keep_probability, batch_features, batch_labels)\n",
    "            print('Epoch {:>2}, CIFAR-10 Batch {}:  '.format(epoch + 1, batch_i), end='')\n",
    "            print_stats(sess, batch_features, batch_labels, cost, accuracy)\n",
    "            \n",
    "    # Save Model\n",
    "    saver = tf.train.Saver()\n",
    "    save_path = saver.save(sess, save_model_path)"
   ]
  },
  {
   "cell_type": "markdown",
   "metadata": {
    "deletable": true,
    "editable": true
   },
   "source": [
    "# Checkpoint\n",
    "The model has been saved to disk.\n",
    "## Test Model\n",
    "Test your model against the test dataset.  This will be your final accuracy. You should have an accuracy greater than 50%. If you don't, keep tweaking the model architecture and parameters."
   ]
  },
  {
   "cell_type": "code",
   "execution_count": 85,
   "metadata": {
    "collapsed": false,
    "deletable": true,
    "editable": true
   },
   "outputs": [
    {
     "name": "stdout",
     "output_type": "stream",
     "text": [
      "Testing Accuracy: 0.7418658107519149\n",
      "\n"
     ]
    },
    {
     "data": {
      "image/png": "[encoded data removed]",
      "text/plain": [
       "<matplotlib.figure.Figure at 0x7f8f9542f278>"
      ]
     },
     "metadata": {
      "image/png": {
       "height": 319,
       "width": 353
      }
     },
     "output_type": "display_data"
    }
   ],
   "source": [
    "\"\"\"\n",
    "DON'T MODIFY ANYTHING IN THIS CELL\n",
    "\"\"\"\n",
    "%matplotlib inline\n",
    "%config InlineBackend.figure_format = 'retina'\n",
    "\n",
    "import tensorflow as tf\n",
    "import pickle\n",
    "import helper\n",
    "import random\n",
    "\n",
    "# Set batch size if not already set\n",
    "try:\n",
    "    if batch_size:\n",
    "        pass\n",
    "except NameError:\n",
    "    batch_size = 64\n",
    "\n",
    "save_model_path = './image_classification'\n",
    "n_samples = 4\n",
    "top_n_predictions = 3\n",
    "\n",
    "def test_model():\n",
    "    \"\"\"\n",
    "    Test the saved model against the test dataset\n",
    "    \"\"\"\n",
    "\n",
    "    test_features, test_labels = pickle.load(open('preprocess_training.p', mode='rb'))\n",
    "    loaded_graph = tf.Graph()\n",
    "\n",
    "    with tf.Session(graph=loaded_graph) as sess:\n",
    "        # Load model\n",
    "        loader = tf.train.import_meta_graph(save_model_path + '.meta')\n",
    "        loader.restore(sess, save_model_path)\n",
    "\n",
    "        # Get Tensors from loaded model\n",
    "        loaded_x = loaded_graph.get_tensor_by_name('x:0')\n",
    "        loaded_y = loaded_graph.get_tensor_by_name('y:0')\n",
    "        loaded_keep_prob = loaded_graph.get_tensor_by_name('keep_prob:0')\n",
    "        loaded_logits = loaded_graph.get_tensor_by_name('logits:0')\n",
    "        loaded_acc = loaded_graph.get_tensor_by_name('accuracy:0')\n",
    "        \n",
    "        # Get accuracy in batches for memory limitations\n",
    "        test_batch_acc_total = 0\n",
    "        test_batch_count = 0\n",
    "        \n",
    "        for train_feature_batch, train_label_batch in helper.batch_features_labels(test_features, test_labels, batch_size):\n",
    "            test_batch_acc_total += sess.run(\n",
    "                loaded_acc,\n",
    "                feed_dict={loaded_x: train_feature_batch, loaded_y: train_label_batch, loaded_keep_prob: 1.0})\n",
    "            test_batch_count += 1\n",
    "\n",
    "        print('Testing Accuracy: {}\\n'.format(test_batch_acc_total/test_batch_count))\n",
    "\n",
    "        # Print Random Samples\n",
    "        random_test_features, random_test_labels = tuple(zip(*random.sample(list(zip(test_features, test_labels)), n_samples)))\n",
    "        random_test_predictions = sess.run(\n",
    "            tf.nn.top_k(tf.nn.softmax(loaded_logits), top_n_predictions),\n",
    "            feed_dict={loaded_x: random_test_features, loaded_y: random_test_labels, loaded_keep_prob: 1.0})\n",
    "        helper.display_image_predictions(random_test_features, random_test_labels, random_test_predictions)\n",
    "\n",
    "\n",
    "test_model()"
   ]
  },
  {
   "cell_type": "markdown",
   "metadata": {
    "deletable": true,
    "editable": true
   },
   "source": [
    "## Why 50-70% Accuracy?\n",
    "You might be wondering why you can't get an accuracy any higher. First things first, 50% isn't bad for a simple CNN.  Pure guessing would get you 10% accuracy. However, you might notice people are getting scores [well above 70%](http://rodrigob.github.io/are_we_there_yet/build/classification_datasets_results.html#43494641522d3130).  That's because we haven't taught you all there is to know about neural networks. We still need to cover a few more techniques.\n",
    "## Submitting This Project\n",
    "When submitting this project, make sure to run all the cells before saving the notebook.  Save the notebook file as \"dlnd_image_classification.ipynb\" and save it as a HTML file under \"File\" -> \"Download as\".  Include the \"helper.py\" and \"problem_unittests.py\" files in your submission."
   ]
  }
 ],
 "metadata": {
  "anaconda-cloud": {},
  "kernelspec": {
   "display_name": "Python 3",
   "language": "python",
   "name": "python3"
  },
  "language_info": {
   "codemirror_mode": {
    "name": "ipython",
    "version": 3
   },
   "file_extension": ".py",
   "mimetype": "text/x-python",
   "name": "python",
   "nbconvert_exporter": "python",
   "pygments_lexer": "ipython3",
   "version": "3.5.2"
  },
  "widgets": {
   "state": {},
   "version": "1.1.2"
  }
 },
 "nbformat": 4,
 "nbformat_minor": 0
}
